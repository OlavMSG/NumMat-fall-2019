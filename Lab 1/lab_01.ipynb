{
 "cells": [
  {
   "cell_type": "markdown",
   "metadata": {},
   "source": [
    "# Homework 1: Linear Systems Part I"
   ]
  },
  {
   "cell_type": "markdown",
   "metadata": {},
   "source": [
    "## General Instructions\n",
    " \n",
    "* To pass this assignment requires to complete the present Jupyter notebook by\n",
    "    + providing correct answers to all the theoretical exercises, and by\n",
    "    + providing complete and runnable computer code producing the correct results to all the computational problems.\n",
    "\n",
    "* For the theoretical exercises, please include intermediate steps to\n",
    "  explain how you arrive at your solution.\n",
    "* Don't overengineer your code, keep it as simple and readable as possible   and provide short code comments to help other people understanding your     code.\n",
    "* Please provide also a short summary and discussion of your results \n",
    "  including the requested output (e.g., tables, graphs etc.).\n",
    "\n",
    "* Up to 3 students can jointly submit the solutions (4 students if at\n",
    "  least one is an exchange student) **Only 1 student from each group** \n",
    "  is supposed to submit them.  \n",
    "\n",
    "##### Deadline for submission of your solutions is **12th of September**.\n",
    "\n",
    "\n",
    "###  Happy coding!"
   ]
  },
  {
   "cell_type": "markdown",
   "metadata": {},
   "source": [
    "**And before we start:**\n",
    "\n",
    "Executing the following cell loads a non-default css style for the notebook. \n",
    "Make sure that you download the corresponding css file  `tmas4215.css` from the `lab/styles` Blackbord folder. Note that the following code snippet assumes that the file resides inside the folder `../styles/` relative to the folder where you stored this notebook on you computer."
   ]
  },
  {
   "cell_type": "code",
   "execution_count": 1,
   "metadata": {
    "scrolled": true
   },
   "outputs": [
    {
     "data": {
      "text/html": [
       "<link href='http://fonts.googleapis.com/css?family=Alegreya+Sans:100,300,400,500,700,800,900,100italic,300italic,400italic,500italic,700italic,800italic,900italic' rel='stylesheet' type='text/css'> <link href='http://fonts.googleapis.com/css?family=Arvo:400,700,400italic' rel='stylesheet' type='text/css'> <link href=\"https://fonts.googleapis.com/css?family=News+Cycle\" rel=\"stylesheet\"> <link href='http://fonts.googleapis.com/css?family=Nixie+One' rel='stylesheet' type='text/css'> <link href='http://fonts.googleapis.com/css?family=PT+Mono' rel='stylesheet' type='text/css'> <link href='http://fonts.googleapis.com/css?family=Shadows+Into+Light' rel='stylesheet' type='text/css'> <link href=\"https://fonts.googleapis.com/css?family=Source+Code+Pro\" rel=\"stylesheet\"> <style> @font-face {\n",
       "    /*font-family: \"Computer Modern\";*/\n",
       "    /*src: url('http://mirrors.ctan.org/fonts/cm-unicode/fonts/otf/cmunss.otf');*/\n",
       "    font-family: 'News Cycle', sans-serif;\n",
       "}\n",
       "\n",
       "\n",
       "/* main background */\n",
       "\n",
       "\n",
       "/*#notebook_panel { \n",
       "        background: #C9D4E2;\n",
       "    }*/\n",
       "\n",
       "div.cell {\n",
       "    /*max-width:600px;*/\n",
       "    /*margin-left:16% !important;*/\n",
       "    /*margin-right:auto;*/\n",
       "}\n",
       "\n",
       "div.text_cell {\n",
       "    max-width: 120ex;\n",
       "    /* instead of 100%, */\n",
       "}\n",
       "\n",
       "div.text_cell_render {\n",
       "    font-family: 'Alegreya Sans', Computer Modern, \"Helvetica Neue\", Arial, Helvetica, Geneva,   sans-serif;\n",
       "    line-height: 135%;\n",
       "    /*font-size:    45pt;*/\n",
       "    font-size: 130%;\n",
       "    /*width:600px;*/\n",
       "    /*margin-left:auto;*/\n",
       "    /*margin-right:auto;*/\n",
       "}\n",
       "\n",
       ".CodeMirror {\n",
       "    /*font-family: 'Source Code Pro', monospace;*/\n",
       "    /*font-style: italic;*/\n",
       "    /*font-weight: bold;*/\n",
       "    /*font-size: 120%;*/\n",
       "}\n",
       "\n",
       "\n",
       "/*.prompt{\n",
       "        display: None;\n",
       "    }*/\n",
       "\n",
       ".text_cell_render h1 {\n",
       "    font-family: 'Nixie One', serifV;\n",
       "    font-style: regular;\n",
       "    font-weight: 400;\n",
       "    font-size: 45pt;\n",
       "    line-height: 100%;\n",
       "        color: #497BB9;    \n",
       "    /*color: #5889C5;*/\n",
       "    /*color: rgb(0, 51, 102);*/\n",
       "    /*font-weight: 200;*/\n",
       "    /*font-size: 50pt;*/\n",
       "    margin-bottom: 0.5em;\n",
       "    margin-top: 0.5em;\n",
       "    display: block;\n",
       "}\n",
       "\n",
       ".text_cell_render h2 {\n",
       "    font-family: 'Nixie One', serif;\n",
       "    font-weight: 400;\n",
       "    font-size: 30pt;\n",
       "    line-height: 100%;\n",
       "    /*color: rgb(0,51,102);*/\n",
       "    color: #497BB9;    \n",
       "    margin-bottom: 0.1em;\n",
       "    margin-top: 0.3em;\n",
       "    display: block;\n",
       "}\t\n",
       "\n",
       ".text_cell_render h3 {\n",
       "    font-family: 'Nixie One', serif;\n",
       "    margin-top:16px;\n",
       "    font-size: 22pt;\n",
       "    font-weight: 600;\n",
       "    margin-bottom: 3px;\n",
       "    font-style: regular;\n",
       "    color: rgb(102,102,0);\n",
       "}\n",
       "\n",
       ".text_cell_render h4 {    /*Use this for captions*/\n",
       "    font-family: 'Nixie One', serif;\n",
       "    font-size: 14pt;\n",
       "/*    text-align: center;*/\n",
       "    margin-top: 0em;\n",
       "    margin-bottom: 2em;\n",
       "    font-style: regular;\n",
       "}\n",
       "\n",
       ".text_cell_render h5 {  /*Use this for small titles*/\n",
       "    font-family: 'Nixie One', sans-serif;\n",
       "    font-weight: 400;\n",
       "    font-size: 16pt;\n",
       "    color: rgb(163,0,0);\n",
       "    /*color: #5889C5;*/\n",
       "    /*margin-bottom: .5em;\n",
       "    margin-top: 0.5em;*/\n",
       "    font-style: italic;\n",
       "    margin-bottom: .1em;\n",
       "    margin-top: 0.8em;\n",
       "    display: block;\n",
       "}\n",
       "\n",
       ".warning {\n",
       "    color: rgb( 240, 20, 20)\n",
       "}\n",
       "\n",
       "</style> \n",
       "<script>\n",
       " MathJax.Hub.Config( {\n",
       "    TeX: {\n",
       "        Macros: {\n",
       "            NN: \"{\\\\bf N}\",\n",
       "            RR: \"{\\\\mathbb{R}}\",\n",
       "            mcO: \"{\\\\mathcal{O}}\"\n",
       "        },\n",
       "        equationNumbers: { autoNumber: \"AMS\" },\n",
       "        extensions: [\"AMSmath.js\", \"begingroup.js\"] \n",
       "    },\n",
       "    tex2jax: {\n",
       "        inlineMath: [ ['$', '$'], [\"\\\\(\", \"\\\\)\"]], displayMath: [ ['$$', '$$'], [\"\\\\[\", \"\\\\]\"]]\n",
       "    },\n",
       "    displayAlign: 'center', // Change this to 'center' to center equations.\n",
       "    \"HTML-CSS\": {\n",
       "        styles: {\n",
       "            '.MathJax_Display': {\n",
       "                \"margin\": 4\n",
       "            }\n",
       "        }\n",
       "    }\n",
       "}\n",
       ");\n",
       "</script>"
      ],
      "text/plain": [
       "<IPython.core.display.HTML object>"
      ]
     },
     "execution_count": 1,
     "metadata": {},
     "output_type": "execute_result"
    }
   ],
   "source": [
    "from IPython.core.display import HTML\n",
    "def css_styling():\n",
    "    styles = open(\"styles/tma4215.css\", \"r\").read()\n",
    "    return HTML(styles)\n",
    "\n",
    "# Comment out next line and execute this cell to restore the default notebook style \n",
    "css_styling()"
   ]
  },
  {
   "cell_type": "markdown",
   "metadata": {},
   "source": [
    "### Useful code snippets\n",
    "\n",
    "We provide a few of code snippets to get you\n",
    "started in Python. Three dots $\\ldots$ indicate places where you have\n",
    "to fill in code. We start with importing the necessary scientific libraries\n",
    "and define a name alias for them."
   ]
  },
  {
   "cell_type": "code",
   "execution_count": 1,
   "metadata": {
    "jupyter": {
     "outputs_hidden": true
    }
   },
   "outputs": [],
   "source": [
    "# Arrary and stuff \n",
    "import numpy as np\n",
    "# Linear algebra solvers from scipy\n",
    "import scipy.linalg as la\n",
    "# Basic plotting routines from the matplotlib library \n",
    "import matplotlib.pyplot as plt"
   ]
  },
  {
   "cell_type": "markdown",
   "metadata": {},
   "source": [
    "## Problem 1\n",
    "Provide a complete proof of Theorem 2 from Lecture 2,\n",
    "following the outline provided there. "
   ]
  },
  {
   "cell_type": "markdown",
   "metadata": {},
   "source": [
    "### Theorem 2\n",
    "Let $A \\in \\mathbb{R}^{n,n}$ with $n > 2$ and assume that every leading\n",
    "principal submatrix of order $k$ with $1 \\leq k \\leq n − 1$ is invertible. Then $A$\n",
    "admits a LU factorization, where $L$ is unit lower triangular of order $n$, and\n",
    "$R$ is upper triangular of order $n$."
   ]
  },
  {
   "cell_type": "markdown",
   "metadata": {},
   "source": [
    "\n",
    "\n",
    "### Proof\n",
    "\n",
    "#### Base-case $n=2$:\n",
    "\n",
    "Assuming that $A$ fullfills the assumption of the theorem\n",
    "and we write it as\n",
    "\n",
    "\\begin{equation}\n",
    "    A=\\begin{pmatrix} a & b \\\\ c & d \\end{pmatrix}\n",
    "\\end{equation}\n",
    "\n",
    "We wish to establish the existence of\n",
    "\\begin{equation}\n",
    "    L=\\begin{pmatrix} 1 & 0 \\\\ m & 1 \\end{pmatrix} , \\quad\n",
    "    U=\\begin{pmatrix} u & v \\\\ 0 & \\eta \\end{pmatrix}\n",
    "\\end{equation}\n",
    "\n",
    "Such that $LU = A$. \n",
    "\n",
    "This gives the 4. equations given below\n",
    "\\begin{equation}\n",
    "    u = a, \\quad v = b, \\quad mu = c, \\quad mv + \\eta = d\n",
    "\\end{equation}\n",
    "\n",
    "with soulution\n",
    "\n",
    "\\begin{equation}\n",
    "    u = a, \\quad v = b, \\quad m = \\frac{c}{a}, \\quad \\eta = d - \\frac{bc}{a}\n",
    "\\end{equation}\n",
    "\n",
    "as long as $a \\neq 0$\n",
    "\n"
   ]
  },
  {
   "cell_type": "markdown",
   "metadata": {},
   "source": [
    "#### Induction step\n",
    "\n",
    "Assuming that the theorem is proven for all matrices of order $k$, $2 \\leq k \\leq n$, \n",
    "and suppose that $A \\in \\mathbb{R}^{n+1,n+1}$ , satisfies the assumptions of the\n",
    "theorem.\n",
    "\n",
    "Inspired by the case $n = 2$, we rewrite $A$ as a block matrix\n",
    "\n",
    "\\begin{equation}\n",
    "    A=\\begin{pmatrix} A^{(n)} & \\mathbf{b} \\\\ \\mathbf{c}^\\top   & d \\end{pmatrix}\n",
    "\\end{equation}\n",
    "\n",
    "where $A^{(n)} \\in \\mathbb{R}^{n, n}$ is a notsingular matrix. Here $\\mathbf{b}$ and $\\mathbf{c}$ are column vectors, and $\\eta$ is a scalar.\n",
    "\n",
    "Now assuming that $A$ satisfies the assumptions of the theorem and that the\n",
    "theorem is already proved for $n$. We want to show that $A$ admits a LU factorization and make the ansatz\n",
    "\n",
    "\\begin{equation}\n",
    "    L=\\begin{pmatrix} L^{(n)} & \\mathbf{0} \\\\ \\mathbf{m}^\\top   & 1 \\end{pmatrix} , \\quad\n",
    "    U=\\begin{pmatrix} U^{(n)} & \\mathbf{v} \\\\ \\mathbf{0}^\\top   & \\eta \\end{pmatrix}\n",
    "\\end{equation}\n",
    "\n",
    "Like for $n=2$ we get 4. equations\n",
    "\\begin{equation}\n",
    "    A^{(n)} = L^{(n)}U^{(n)}, \\quad \\mathbf{b} = L^{(n)} \\mathbf{v}, \n",
    "    \\quad \\mathbf{m}^\\top U^{(n)}  = \\mathbf{c}^\\top, \n",
    "    \\quad \\mathbf{m}^\\top \\mathbf{v} + \\eta = d\n",
    "\\end{equation}\n",
    "\n",
    "The first equation $A^{(n)} = L^{(n)}U^{(n)}$ we alredy know by assumtion, but also by assumtion $A^{(n)}$ is invertible. So $L^{(n)}$ and $U^{(n)}$ are invertible, and with this we can solve the rest of the equations like this.\n",
    "\n",
    "\\begin{equation}\n",
    "   \\mathbf{v} = (L^{(n)})^{-1} \\mathbf{b}, \n",
    "    \\quad \\mathbf{m}  = (U^{(n)})^{-\\top} \\mathbf{c}, \n",
    "    \\quad \\eta = d - \\mathbf{m}^\\top \\mathbf{v}\n",
    "\\end{equation}\n",
    "\n",
    "By this $A$ admits a LU factorization.\n",
    "\n",
    "Now it remains to prove that if $A$ admits a LU factorization, then every leading\n",
    "principal submatrices of order $k$ with $1 \\leq k \\leq n$ is invertible.\n",
    "\n",
    "First if $A$ is nonsingular, then\n",
    "\\begin{equation}\n",
    "   \\det{A} = \\det{LU} = \\det{L} \\cdot \\det{U} = \\det{U} = \\prod_{i=1}^{n+1} u_{ii} \\neq  0\n",
    "\\end{equation}\n",
    "\n",
    "Because $L$ and $U$ are diagonal matrtices and $l_{ii}=1$ for $i = 1, 2, ... ,n, n+1$, and $A$\n",
    "nonsingular. It follows that \n",
    "\n",
    "\\begin{equation}\n",
    "   \\det{A_i}= \\prod_{j=1}^{i} u_{jj} \\neq  0\n",
    "\\end{equation}\n",
    "\n",
    "for $i = 1, 2, ... ,n$, and that matrices $A_i$, $i = 1, 2, ... ,n$, are invertible.\n",
    "\n",
    "If $A$ is singular we can assume that (at least) one diagonal entery of $U$ is equal to zero. Denoteing the null entry by $u_{kk}$ with minimum indek $k$. Thanks to  the equation for $\\det(A)$, the factorization can be computed without troubls until the $k+1$-step. From her on, \n",
    "since $U^{(k)}$ is singular, existene and uniquness of the vector $\\mathbf{m}^\\top$ are certainly lost, and, thus, the same holds for the uniquness of the factorization. In order for this not to occur before the process has factorized the whole of $A$, the $u_{kk}$ entries must all be nonzero up to the index $k=n$ included, and thus, due to the equation for $\\det(A)$, all pricipal submatrices $A_k$ must be nonsigular for $k=1,2, ... , n$.\n",
    "\n"
   ]
  },
  {
   "cell_type": "markdown",
   "metadata": {},
   "source": [
    "## Problem 2"
   ]
  },
  {
   "cell_type": "markdown",
   "metadata": {},
   "source": [
    "Given matrix $A \\in \\mathbb{R}^{n,n}$ and $\\boldsymbol{b} \\in \\mathbb{R}^n$,\n",
    "the goal of this problem set is to compute the solution $\\boldsymbol{x}$\n",
    "to the linear system $A \\boldsymbol{x} = \\boldsymbol{b}$ numerically\n",
    "by implementing the algorithms $A = LU$ factorization (whenever possible), and the backward and forward substitution steps in ```Python```.\n",
    "\n",
    "As a preliminary step, please make sure that you have import ```numpy```  as ```np``` by executing the cell right under \"Useful code snippets\"."
   ]
  },
  {
   "cell_type": "markdown",
   "metadata": {},
   "source": [
    "**a)** Implement a ```Python``` function ```forward_sub```:"
   ]
  },
  {
   "cell_type": "code",
   "execution_count": 6,
   "metadata": {},
   "outputs": [],
   "source": [
    "def forward_sub(LU, b, P):\n",
    "    \"\"\"Given a lower triangular matrix L and right-side vector b,\n",
    "    compute the solution vector y solving Ly = b.\"\"\"\n",
    "    # P is the permutasjon vector, LU is the matrix containg both L and U\n",
    "    n = len(LU)\n",
    "    y = np.zeros(n) # make empty y\n",
    "    y[0] = b[P[0]] # first element of b sorted as P\n",
    "    for i in range(1, n):\n",
    "        y[i] = b[P[i]] - LU[P[i], 0:i] @ y[0:i] # rest of the elemets\n",
    "    return y"
   ]
  },
  {
   "cell_type": "markdown",
   "metadata": {},
   "source": [
    "**b)** Next, implement a ```Python``` function ```backward_sub```:"
   ]
  },
  {
   "cell_type": "code",
   "execution_count": 7,
   "metadata": {},
   "outputs": [],
   "source": [
    "def backward_sub(LU, y, P):\n",
    "    \"\"\"Given a lower triangular matrix U and right-side vector y,\n",
    "    compute the solution vector x solving Ux = y.\"\"\"\n",
    "     # P is the permutasjon vector, LU is the matrix containg both L and U\n",
    "    n = len(LU)\n",
    "    x = np.zeros(n)\n",
    "    x[n-1] = y[n-1] / LU[P[n-1], n-1] # last element\n",
    "    for i in range(n-1, 0, -1):\n",
    "        x[i-1] = (y[i-1] - LU[P[i-1], i:] @ x[i:]) / LU[P[i-1], i-1]   #rest of the elements\n",
    "    return x"
   ]
  },
  {
   "cell_type": "markdown",
   "metadata": {},
   "source": [
    "**c)** Now, implement a Python function which computes for a given matrix $A \\boldsymbol{R}^{n,n}$ the $LU$ factorization of $A = LU$ ((if possible).\n",
    "You can either base your implemenentation on the Banachiewicz or Crout method (explain in Lecture 3) or any method\n",
    "you might dig up from the literature.\n",
    "If you want, you can take some inspiration from the reference **YEB**, Chapter 3.3, see Program 4, 5, 6.\n",
    "\n",
    "If the factorization fails without permutating $A$, you should at least be so kind\n",
    "and raise an ```Exception```, see [Python 3 tutorial, 8. Errors and Exceptions](\n",
    "https://docs.python.org/3/tutorial/errors.html#errors-and-exceptions).\n",
    "More specifically, you can simply raise an [NotImplementedError](https://docs.python.org/3/library/exceptions.html#NotImplementedError) exception.\n",
    "\n",
    "Of course, you can also implement the full $PA = LU$ decomposition if you don't want to throw Exceptions around :)."
   ]
  },
  {
   "cell_type": "code",
   "execution_count": 8,
   "metadata": {},
   "outputs": [],
   "source": [
    "def lu_factor(A):\n",
    "    LU = A.copy() #saving space by storing L and U in the same matrix, and I don't want to save A as it is.\n",
    "    n = len(LU)\n",
    "    P = np.arange(n) #permutatiun vector\n",
    "    for k in range(n-1):\n",
    "        pivot = np.argmax(abs(LU[P[k:], k])) + k #finding the pivot, by sorting LU as P from k.\n",
    "        P[k], P[pivot] = P[pivot], P[k] #change posision of elemet pivot and k in P.\n",
    "        # we know L[i,i] = 1, and that U[k, i] = \"LU[k, i]\" from the last step.\n",
    "        # finding multiplicator\n",
    "        LU[P[k+1:], k] = LU[P[k+1:], k] / LU[P[k], k]\n",
    "        # elimination\n",
    "        LU[P[k+1:], k+1:] = LU[P[k+1:], k+1:] - np.outer(LU[P[k+1:], k], LU[P[k], k+1:])\n",
    "    return P, LU"
   ]
  },
  {
   "cell_type": "markdown",
   "metadata": {},
   "source": [
    "**d)** Next, combine the Python functions you just implemented in a)-b) to provide\n",
    "solver for the linear system $A \\boldsymbol{x} = \\boldsymbol{b}$ based on\n",
    "a given $A = LU$ factorization. "
   ]
  },
  {
   "cell_type": "code",
   "execution_count": 9,
   "metadata": {},
   "outputs": [],
   "source": [
    "def lu_solve(LU, P, b):\n",
    "    # Step 1: Solve Ly = b using forward substitution\n",
    "    y = forward_sub(LU, b, P) # sort b as P\n",
    "    # Step 2: Solve Ux = y using backward substitution\n",
    "    x = backward_sub(LU, y, P)\n",
    "    return x"
   ]
  },
  {
   "cell_type": "markdown",
   "metadata": {},
   "source": [
    "**e)** Finally, write a ```linear_solve``` function  by simply combining your ```lu_factor``` and ```lu_solve```. "
   ]
  },
  {
   "cell_type": "code",
   "execution_count": 10,
   "metadata": {},
   "outputs": [],
   "source": [
    "def linear_solve(A, b):\n",
    "    # ...\n",
    "    P, LU = lu_factor(A)\n",
    "    x = lu_solve(LU, P, b)\n",
    "    \n",
    "    return x"
   ]
  },
  {
   "cell_type": "markdown",
   "metadata": {},
   "source": [
    "**f)** Use you brand new `linear_solve` function to compute the solution to a non-trivial linear system. Here non-trivial means that $n > 4$ :) and a non-zero right-hand side $\\boldsymbol{b}$.\n",
    "\n",
    "*Hint*: To check whether your code computes the \"exact\" result, you can use the \n",
    "method of **manufactured solution**. In the case of linear systems $A \\boldsymbol{x} = \\boldsymbol{b}$ this means that for **given/chosen** matrix $A$ and solution vector $\\boldsymbol{x}$, you simply compute the resulting right-hand side vector \n",
    "$\\boldsymbol{b} = A \\boldsymbol{x}$ to construct an example where you know the solution.\n",
    "When you now solve $A\\boldsymbol{x} = \\boldsymbol{b}$ starting from $A$, $\\boldsymbol{b}$, your implementation should return the correct $\\boldsymbol{x}$."
   ]
  },
  {
   "cell_type": "code",
   "execution_count": 11,
   "metadata": {},
   "outputs": [
    {
     "name": "stdout",
     "output_type": "stream",
     "text": [
      "A =\n",
      " [[1.52988599 9.25166805 1.45007044 2.81932896 5.67538078]\n",
      " [9.42963215 1.17504566 9.40495921 4.46232752 7.08461432]\n",
      " [3.59622133 1.27181317 1.26234231 9.72513534 9.37662684]\n",
      " [0.13852987 3.7683606  3.8544754  0.22213983 3.55615931]\n",
      " [1.27735651 4.96638516 0.16944097 5.10974535 6.81772521]]\n",
      "x =  [2.95894696 3.4464804  2.09988659 0.32779289 5.1997356 ]\n",
      "b =  [69.892163   90.00174143 69.61889358 40.05534866 58.37729268]\n",
      "testing...\n",
      "x_test =   [2.95894696 3.4464804  2.09988659 0.32779289 5.1997356 ]\n",
      "||x - x_test ||_2 =  9.005989301900502e-15\n"
     ]
    }
   ],
   "source": [
    "#test\n",
    "\n",
    "n = 5 # give a n > 4\n",
    "\n",
    "A = np.random.rand(n*n).reshape((n,n)) * 10\n",
    "print(\"A =\\n\", A)\n",
    "x = np.random.rand(n) * 10\n",
    "print(\"x = \", x)\n",
    "b = A @ x\n",
    "print(\"b = \", b)\n",
    "print(\"testing...\")\n",
    "x_test = linear_solve(A, b)\n",
    "print(\"x_test =  \", x_test)\n",
    "print(\"||x - x_test ||_2 = \", la.norm(x - x_test, 2))\n",
    "\n",
    "\n"
   ]
  },
  {
   "cell_type": "markdown",
   "metadata": {},
   "source": [
    "## Problem 3\n",
    "\n",
    "The objective of this problem set is two-fold. First, we will have an actual look \n",
    "at the complexity of the linear solver you implemented in the previous problem.\n",
    "Second, we want to illustrate that the finite precision of real numbers\n",
    "can matter very much in actual computations.\n",
    "\n",
    "We start by introducing the **Hilbert Matrix** $H_n$ of order $n$ by\n",
    "$$ \n",
    "(H_n)_{ij} = \\dfrac{1}{i+j-1} \\quad \\text{for } 1 \\leqslant i,j \\leqslant n.\n",
    "$$\n",
    "\n",
    "\n",
    "The Hilbert matrix is readily available in the ```scipy.linalg``` module, so you simply\n",
    "type, e.g\n",
    "\n",
    "```python\n",
    "n = 3\n",
    "A = la.hilbert(n)\n",
    "```\n",
    "Recall that we imported the ```linalg``` module and renamed it to ```la``` via the\n",
    "```python \n",
    "import scipy.linalg as la\n",
    "``` \n",
    "line at the beginning of this notebook."
   ]
  },
  {
   "cell_type": "markdown",
   "metadata": {},
   "source": [
    "**a)** \n",
    "Define the trivial righ-hand side $\\boldsymbol{b} = \\boldsymbol{0}$\n",
    "and measure the executation time for the various step in your linear_solver.\n",
    "To do so you can use ```%timeit``` and ```%%timeit``` magic functions in IPython,\n",
    "see [corresponding documentation](https://ipython.readthedocs.io/en/stable/interactive/magics.html#magic-timeit).\n",
    "\n",
    "In a nutshell, ```%%timeit``` measures the executation time of an entire cell, while ```%timeit```\n",
    "only measures only the executation time of a single line, e.g. as in\n",
    "\n",
    "```python\n",
    "%timeit my_function()\n",
    "```\n",
    "\n",
    "Note that the latter might not play well with functions returning arguments.\n",
    "To this end, you can simply (re)write a linear solver in  3 lines (1 line per cell)\n",
    "starting from calling your  ```lu_factor``` function and\n",
    "copy-pasting the lines from Step 1 to Step 2 in the ```linear_solve()``` function.\n",
    "Then use the ```%%timeit``` to measure the executation time of each cell.\n",
    "\n",
    "To get accurate timeing results, ```timeit``` automatically runs the same code multiple\n",
    "times in  a loop, and repeats that measurement a number of times.\n",
    "The actual number of loops and repeats is selected automatically and will be printed out at the end. They can also be manually adjusted by using\n",
    "\n",
    "```\n",
    "%%timeit -n<number_of_loops> -r<number_of_repeats>\n",
    "```\n",
    "\n",
    "\n",
    "Now for $n = 500, 1000, 2000, 4000$, measure the executation time for each step in the linear solve\n",
    "(factorizing, forward and backward substitution) and plot\n",
    "the execution time $t$ against the number of unknowns $n$ in a $\\log$-$\\log$ plot,\n",
    "that is, $\\log(t)$ against $\\log(n)$.\n",
    "(Matplotlib has specific functions for log-log plotting)"
   ]
  },
  {
   "cell_type": "code",
   "execution_count": 9,
   "metadata": {},
   "outputs": [],
   "source": [
    "import sympy as sym\n",
    "\"\"\"for pen plotting\"\"\"\n",
    "# Initialiserer pen visning av uttrykkene\n",
    "sym.init_printing()\n",
    "\n",
    "# Plotteparametre for C% fC% store, tydelige plott som utnytter tilgjengelig skjermareal\n",
    "fontsize = 20\n",
    "newparams = {'axes.titlesize': fontsize, 'axes.labelsize': fontsize,\n",
    "             'lines.linewidth': 2, 'lines.markersize': 7,\n",
    "             'figure.figsize': (16, 7), 'ytick.labelsize': fontsize,\n",
    "             'xtick.labelsize': fontsize, 'legend.fontsize': fontsize,\n",
    "            'legend.handlelength': 1.5}\n",
    "plt.rcParams.update(newparams)"
   ]
  },
  {
   "cell_type": "code",
   "execution_count": 10,
   "metadata": {
    "scrolled": false
   },
   "outputs": [
    {
     "name": "stdout",
     "output_type": "stream",
     "text": [
      "n =  500\n",
      "lu_factor()\n",
      "428 ms ± 45.8 ms per loop (mean ± std. dev. of 7 runs, 1 loop each)\n",
      "forward_sub()\n",
      "618 µs ± 32.5 µs per loop (mean ± std. dev. of 7 runs, 1000 loops each)\n",
      "backward_sub()\n",
      "829 µs ± 73.4 µs per loop (mean ± std. dev. of 7 runs, 1000 loops each)\n",
      "linear_solve()\n",
      "362 ms ± 2.3 ms per loop (mean ± std. dev. of 7 runs, 1 loop each)\n",
      "-----------------------------------------------------------------------------\n",
      "n =  1000\n",
      "lu_factor()\n",
      "3.75 s ± 147 ms per loop (mean ± std. dev. of 7 runs, 1 loop each)\n",
      "forward_sub()\n",
      "1.25 ms ± 30.8 µs per loop (mean ± std. dev. of 7 runs, 1000 loops each)\n",
      "backward_sub()\n",
      "1.66 ms ± 74.7 µs per loop (mean ± std. dev. of 7 runs, 1000 loops each)\n",
      "linear_solve()\n",
      "3.7 s ± 63.9 ms per loop (mean ± std. dev. of 7 runs, 1 loop each)\n",
      "-----------------------------------------------------------------------------\n",
      "n =  2000\n",
      "lu_factor()\n",
      "32 s ± 283 ms per loop (mean ± std. dev. of 7 runs, 1 loop each)\n",
      "forward_sub()\n",
      "3.46 ms ± 263 µs per loop (mean ± std. dev. of 7 runs, 100 loops each)\n",
      "backward_sub()\n",
      "4.29 ms ± 253 µs per loop (mean ± std. dev. of 7 runs, 100 loops each)\n",
      "linear_solve()\n",
      "32.1 s ± 276 ms per loop (mean ± std. dev. of 7 runs, 1 loop each)\n",
      "-----------------------------------------------------------------------------\n",
      "n =  4000\n",
      "lu_factor()\n",
      "4min 20s ± 1.16 s per loop (mean ± std. dev. of 7 runs, 1 loop each)\n",
      "forward_sub()\n",
      "8.84 ms ± 511 µs per loop (mean ± std. dev. of 7 runs, 100 loops each)\n",
      "backward_sub()\n",
      "10.3 ms ± 351 µs per loop (mean ± std. dev. of 7 runs, 100 loops each)\n",
      "linear_solve()\n",
      "4min 21s ± 582 ms per loop (mean ± std. dev. of 7 runs, 1 loop each)\n",
      "-----------------------------------------------------------------------------\n"
     ]
    },
    {
     "data": {
      "image/png": "[encoded data removed]",
      "text/plain": [
       "<Figure size 1152x504 with 1 Axes>"
      ]
     },
     "metadata": {},
     "output_type": "display_data"
    },
    {
     "data": {
      "image/png": "[encoded data removed]",
      "text/plain": [
       "<Figure size 1152x504 with 1 Axes>"
      ]
     },
     "metadata": {},
     "output_type": "display_data"
    },
    {
     "data": {
      "image/png": "[encoded data removed]",
      "text/plain": [
       "<Figure size 1152x504 with 1 Axes>"
      ]
     },
     "metadata": {},
     "output_type": "display_data"
    },
    {
     "data": {
      "image/png": "[encoded data removed]",
      "text/plain": [
       "<Figure size 1152x504 with 1 Axes>"
      ]
     },
     "metadata": {},
     "output_type": "display_data"
    }
   ],
   "source": [
    "n_list = np.array([500, 1000, 2000, 4000])\n",
    "results = np.zeros(len(n_list)*4).reshape(4, (len(n_list)))\n",
    "i = 0\n",
    "for n in n_list:\n",
    "    print(\"n = \", n)\n",
    "    A = la.hilbert(n)\n",
    "    b = np.zeros(n)\n",
    "    # lu_factor\n",
    "    print(\"lu_factor()\")\n",
    "    res1= %timeit -o P, LU = lu_factor(A)\n",
    "    results[0, i] = np.mean(res1.timings)\n",
    "    # Step 1: Solve Ly = b using forward substitution\n",
    "    print(\"forward_sub()\")\n",
    "    P, LU = lu_factor(A)\n",
    "    res2 = %timeit -o y = forward_sub(LU, b, P) # sort b as P\n",
    "    results[1, i] = np.mean(res2.timings)\n",
    "    # Step 2: Solve Ux = y using backward substitution\n",
    "    print(\"backward_sub()\")\n",
    "    y = forward_sub(LU, b, P)\n",
    "    res3 = %timeit -o x = backward_sub(LU, y, P)\n",
    "    results[2, i] = np.mean(res3.timings)\n",
    "    # the whole thing\n",
    "    print(\"linear_solve()\")\n",
    "    res4 = %timeit -o linear_solve(A, b)\n",
    "    results[3, i] = np.mean(res4.timings)\n",
    "    i += 1\n",
    "    print(\"-----------------------------------------------------------------------------\")\n",
    "\n",
    "Test_list = np.array(['lu_factor()', 'forward_sub()', 'backward_sub()', 'linear_solve()'])\n",
    "for j in range(4):\n",
    "    plt.figure(j)\n",
    "    plt.title(Test_list[j])\n",
    "    plt.loglog(n_list, results[j])\n",
    "    plt.xlabel(\"$log(n)$\")\n",
    "    plt.ylabel(\"$log(t)$\")\n",
    "    \n",
    "    plt.show()"
   ]
  },
  {
   "cell_type": "markdown",
   "metadata": {},
   "source": [
    "I see that the log-log dependency between $n$ and $t$ is about linear in all chases but ```lu_factor``` and ```linear_solve()``` use alot more time, especially for large $n$. ```forward_sub()``` and ```backward_sub()``` don't use that mush time. From lectures we know that ```lu_factor``` goes as $O(n^3)$, and ```forward_sub()``` and ```backward_sub()``` as $O(n^2)$, so ```linear_solve()``` goes as $O(n^3)$ for large $n$."
   ]
  },
  {
   "cell_type": "code",
   "execution_count": 11,
   "metadata": {},
   "outputs": [],
   "source": [
    "# run to show the plots of a prerun run of the code above, by setting to True\n",
    "if False:\n",
    "    n_list = np.array([500, 1000, 2000, 4000])\n",
    "    results = np.array([[4.61020129e-01, 4.28989229e+00, 3.64943890e+01, 2.95273179e+02],\n",
    "                        [6.37950329e-04, 1.37434544e-03, 3.69055143e-03, 8.99080671e-03],\n",
    "                        [8.44526114e-04, 1.76658701e-03, 4.21109257e-03, 1.10262830e-02],\n",
    "                        [4.54547143e-01, 4.27286034e+00, 3.65662469e+01, 2.91582347e+02]])\n",
    "\n",
    "    print(\"n = 500 \\nlu_factor() \\n461 ms ± 17.9 ms per loop (mean ± std. dev. of 7 runs, 1 loop each) \\nforward_sub() \\n\"+\n",
    "            \"638 µs ± 23 µs per loop (mean ± std. dev. of 7 runs, 1000 loops each) \\nbackward_sub() \\n\"+\n",
    "            \"845 µs ± 94.2 µs per loop (mean ± std. dev. of 7 runs, 1000 loops each) \\nlinear_solve() \\n\"+\n",
    "            \"455 ms ± 5.26 ms per loop (mean ± std. dev. of 7 runs, 1 loop each) \\nn = 1000 \\nlu_factor() \\n\"+\n",
    "            \"4.29 s ± 52.8 ms per loop (mean ± std. dev. of 7 runs, 1 loop each) \\nforward_sub() \\n\"+\n",
    "            \"1.37 ms ± 69.9 µs per loop (mean ± std. dev. of 7 runs, 1000 loops each) \\nbackward_sub() \\n\"+\n",
    "            \"1.77 ms ± 71 µs per loop (mean ± std. dev. of 7 runs, 1000 loops each) \\nlinear_solve()\\n\"+\n",
    "            \"4.27 s ± 46.8 ms per loop (mean ± std. dev. of 7 runs, 1 loop each) \\nn = 2000 \\nlu_factor()\\n\"+\n",
    "            \"36.5 s ± 151 ms per loop (mean ± std. dev. of 7 runs, 1 loop each) \\nforward_sub() \\n\"+\n",
    "            \"3.69 ms ± 137 µs per loop (mean ± std. dev. of 7 runs, 100 loops each) \\nbackward_sub()\\n\"+\n",
    "            \"4.21 ms ± 62.9 µs per loop (mean ± std. dev. of 7 runs, 100 loops each) \\nlinear_solve()\\n\"+\n",
    "            \"36.6 s ± 186 ms per loop (mean ± std. dev. of 7 runs, 1 loop each) \\nn = 4000 \\nlu_factor() \\n\"+\n",
    "            \"4min 55s ± 1.53 s per loop (mean ± std. dev. of 7 runs, 1 loop each) \\nforward_sub() \\n\"+\n",
    "            \"8.99 ms ± 217 µs per loop (mean ± std. dev. of 7 runs, 100 loops each) \\nbackward_sub() \\n\"+\n",
    "            \"11 ms ± 547 µs per loop (mean ± std. dev. of 7 runs, 100 loops each) \\nlinear_solve() \\n\"+\n",
    "            \"4min 51s ± 6.8 s per loop (mean ± std. dev. of 7 runs, 1 loop each))\")\n",
    "\n",
    "    Test_list = np.array(['lu_factor()', 'forward_sub()', 'backward_sub()', 'linear_solve()'])\n",
    "    for j in range(4):\n",
    "        plt.figure(j + 6)\n",
    "        plt.title(Test_list[j])\n",
    "        plt.loglog(n_list, results[j])\n",
    "        plt.xlabel(\"$log(n)$\")\n",
    "        plt.ylabel(\"$log(t)$\")\n",
    "\n",
    "        plt.show()"
   ]
  },
  {
   "cell_type": "markdown",
   "metadata": {},
   "source": [
    "**b)** Next, define a non-trivial vector $\\boldsymbol{b}$ by\n",
    "$$\n",
    "b_i = \\sum_{j=1}^n (j/(i+j-1)) \n",
    "$$\n",
    "so that the **exact solution** to the lineary system $H_n \\boldsymbol{x} = \\boldsymbol{b}$ is\n",
    "the vector $\\boldsymbol{x}_{\\mathrm{ex}}$  with elements $x_{\\mathrm{ex},i} = i$.\n",
    "Now solve the system using your ```linear_solve``` function for $n = 2, 4, 8, 16$, print the computed solution vector $\\boldsymbol{x}_{\\mathrm{comp}}$ and compare it with $\\boldsymbol{x}_{\\mathrm{ex}}$. In particular compute \n",
    "\n",
    "$$\\|\\boldsymbol{x}_{\\mathrm{ex}}-\\boldsymbol{x}_{\\mathrm{comp}}\\|_2.$$\n",
    "\n",
    "What do you observe? Can you explain your observations?\n",
    "\n",
    "*Hint*: It can be shown that the condition number $\\kappa_2(H_n)$ scales like\n",
    "$$\n",
    "\\kappa_2(H_n) \\sim \\dfrac{\\left(\\sqrt{2}+1\\right)^{4n+4}}{2^{15/4}\\sqrt{\\pi n}}\n",
    "\\text{as } n \\to  \\infty.\n",
    "$$\n",
    "\n",
    "Tabulate the approximate values of $\\kappa_2(H_n)$ for $n = 2, 4, 8, 16$.\n",
    "\n",
    "This exercise was heavily inspired by Section 2.8 in **BLUB**."
   ]
  },
  {
   "cell_type": "code",
   "execution_count": 12,
   "metadata": {
    "scrolled": false
   },
   "outputs": [
    {
     "name": "stdout",
     "output_type": "stream",
     "text": [
      "n =  2\n",
      "x_ex =  [1. 2.]\n",
      "x_comp =  [0. 2.]\n",
      "||x_ex-x_comp||_2 =  1.0\n",
      "k_2(H_ 2 ) =  1162.4005482739578\n",
      "--------------------\n",
      "n =  4\n",
      "x_ex =  [1. 2. 3. 4.]\n",
      "x_comp =  [ 1.80966353e-14 -2.03170814e-13  4.90857355e-13  4.00000000e+00]\n",
      "||x_ex-x_comp||_2 =  3.741657386773652\n",
      "k_2(H_ 4 ) =  948519.5596462524\n",
      "--------------------\n",
      "n =  8\n",
      "x_ex =  [1. 2. 3. 4. 5. 6. 7. 8.]\n",
      "x_comp =  [ 3.66418007e-12 -1.92186267e-10  2.45791815e-09 -1.30586664e-08\n",
      "  3.45969025e-08 -4.82735491e-08  3.39366646e-08  7.99999999e+00]\n",
      "||x_ex-x_comp||_2 =  11.832159559804943\n",
      "k_2(H_ 8 ) =  893186722615.2314\n",
      "--------------------\n",
      "n =  10\n",
      "x_ex =  [ 1.  2.  3.  4.  5.  6.  7.  8.  9. 10.]\n",
      "x_comp =  [ 1.98046124e-09 -1.70057444e-07  3.60516037e-06 -3.26529834e-05\n",
      "  1.55277027e-04 -4.25775856e-04  6.97064068e-04 -6.72379464e-04\n",
      "  3.52420417e-04  9.99992261e+00]\n",
      "||x_ex-x_comp||_2 =  16.881897218345806\n",
      "k_2(H_ 10 ) =  921918934734649.9\n",
      "--------------------\n",
      "n =  16\n",
      "x_ex =  [ 1.  2.  3.  4.  5.  6.  7.  8.  9. 10. 11. 12. 13. 14. 15. 16.]\n",
      "x_comp =  [ 2.52388495e-07 -3.92437383e-05  1.50551051e-03 -2.48499032e-02\n",
      "  2.18501503e-01 -1.13292634e+00  3.61871322e+00 -7.10549790e+00\n",
      "  8.09651748e+00 -4.94682078e+00  4.42908103e+00 -1.29621071e+01\n",
      "  2.20220454e+01 -1.92397236e+01  8.60215661e+00  1.44234437e+01]\n",
      "||x_ex-x_comp||_2 =  49.63610618077695\n",
      "k_2(H_ 16 ) =  1.1200803841874022e+24\n",
      "--------------------\n"
     ]
    },
    {
     "data": {
      "image/png": "[encoded data removed]",
      "text/plain": [
       "<Figure size 1152x504 with 1 Axes>"
      ]
     },
     "metadata": {},
     "output_type": "display_data"
    }
   ],
   "source": [
    "n_list = np.array([2, 4, 8, 10, 16])\n",
    "dif_list = np.zeros(len(n_list))\n",
    "k_2H_n_list = np.zeros(len(n_list))\n",
    "a = 0\n",
    "for n in n_list:\n",
    "    print(\"n = \", n)\n",
    "    A = la.hilbert(n)\n",
    "    b = np.zeros(n)\n",
    "    x_ex = np.zeros(n)\n",
    "    for i in range(1, n+1):\n",
    "        x_ex[i-1] = i\n",
    "        for j in range(1, n+1):\n",
    "            b[i-1] = j / (i + j - 1)\n",
    "    # print(\"A = \\n\", A)\n",
    "    # print(\"b = \\n\", b)\n",
    "    x_comp = linear_solve(A, b)\n",
    "    print(\"x_ex = \", x_ex)\n",
    "    print(\"x_comp = \", x_comp)\n",
    "    dif = la.norm(x_ex - x_comp, 2)\n",
    "    dif_list[a] = dif\n",
    "    print(\"||x_ex-x_comp||_2 = \", dif)\n",
    "    k_2H_n = ((np.sqrt(2) + 1) ** (4 * n + 4)) / ((2 ** (15 / 4)) * np.sqrt(np.pi * n) )\n",
    "    k_2H_n_list[a] = k_2H_n\n",
    "    print(\"k_2(H_\", n, \") = \", k_2H_n)\n",
    "    print(\"--------------------\")\n",
    "    a += 1\n",
    "\n",
    "plt.figure(5)\n",
    "plt.loglog(k_2H_n_list, dif_list, 'rx')\n",
    "plt.grid(True)\n",
    "plt.ylabel(\"$log(||\\mathbf{x}_{ex}-\\mathbf{x}_{comp}||_2)$\")\n",
    "plt.xlabel(\"$log(\\kappa_2 (H_n))$\")\n",
    "plt.show()\n"
   ]
  },
  {
   "cell_type": "markdown",
   "metadata": {},
   "source": [
    "I see that as $\\kappa_2(H_n)$ gets bigger as $\\|\\boldsymbol{x}_{\\mathrm{ex}}-\\boldsymbol{x}_{\\mathrm{comp}}\\|_2$ gets bigger."
   ]
  },
  {
   "cell_type": "code",
   "execution_count": null,
   "metadata": {},
   "outputs": [],
   "source": []
  }
 ],
 "metadata": {
  "anaconda-cloud": {},
  "kernelspec": {
   "display_name": "Python 3",
   "language": "python",
   "name": "python3"
  },
  "language_info": {
   "codemirror_mode": {
    "name": "ipython",
    "version": 3
   },
   "file_extension": ".py",
   "mimetype": "text/x-python",
   "name": "python",
   "nbconvert_exporter": "python",
   "pygments_lexer": "ipython3",
   "version": "3.7.4"
  }
 },
 "nbformat": 4,
 "nbformat_minor": 4
}
