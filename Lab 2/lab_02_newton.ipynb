{
 "cells": [
  {
   "cell_type": "markdown",
   "metadata": {},
   "source": [
    "# Lab 2:  Problem 3"
   ]
  },
  {
   "cell_type": "code",
   "execution_count": 1,
   "metadata": {},
   "outputs": [
    {
     "data": {
      "text/html": [
       "<link href='http://fonts.googleapis.com/css?family=Alegreya+Sans:100,300,400,500,700,800,900,100italic,300italic,400italic,500italic,700italic,800italic,900italic' rel='stylesheet' type='text/css'> <link href='http://fonts.googleapis.com/css?family=Arvo:400,700,400italic' rel='stylesheet' type='text/css'> <link href=\"https://fonts.googleapis.com/css?family=News+Cycle\" rel=\"stylesheet\"> <link href='http://fonts.googleapis.com/css?family=Nixie+One' rel='stylesheet' type='text/css'> <link href='http://fonts.googleapis.com/css?family=PT+Mono' rel='stylesheet' type='text/css'> <link href='http://fonts.googleapis.com/css?family=Shadows+Into+Light' rel='stylesheet' type='text/css'> <link href=\"https://fonts.googleapis.com/css?family=Source+Code+Pro\" rel=\"stylesheet\"> <style> @font-face {\n",
       "    /*font-family: \"Computer Modern\";*/\n",
       "    /*src: url('http://mirrors.ctan.org/fonts/cm-unicode/fonts/otf/cmunss.otf');*/\n",
       "    font-family: 'News Cycle', sans-serif;\n",
       "}\n",
       "\n",
       "\n",
       "/* main background */\n",
       "\n",
       "\n",
       "/*#notebook_panel { \n",
       "        background: #C9D4E2;\n",
       "    }*/\n",
       "\n",
       "div.cell {\n",
       "    /*max-width:600px;*/\n",
       "    /*margin-left:16% !important;*/\n",
       "    /*margin-right:auto;*/\n",
       "}\n",
       "\n",
       "div.text_cell {\n",
       "    max-width: 120ex;\n",
       "    /* instead of 100%, */\n",
       "}\n",
       "\n",
       "div.text_cell_render {\n",
       "    font-family: 'Alegreya Sans', Computer Modern, \"Helvetica Neue\", Arial, Helvetica, Geneva,   sans-serif;\n",
       "    line-height: 135%;\n",
       "    /*font-size:    45pt;*/\n",
       "    font-size: 130%;\n",
       "    /*width:600px;*/\n",
       "    /*margin-left:auto;*/\n",
       "    /*margin-right:auto;*/\n",
       "}\n",
       "\n",
       ".CodeMirror {\n",
       "    /*font-family: 'Source Code Pro', monospace;*/\n",
       "    /*font-style: italic;*/\n",
       "    /*font-weight: bold;*/\n",
       "    /*font-size: 120%;*/\n",
       "}\n",
       "\n",
       "\n",
       "/*.prompt{\n",
       "        display: None;\n",
       "    }*/\n",
       "\n",
       ".text_cell_render h1 {\n",
       "    font-family: 'Nixie One', serifV;\n",
       "    font-style: regular;\n",
       "    font-weight: 400;\n",
       "    font-size: 45pt;\n",
       "    line-height: 100%;\n",
       "        color: #497BB9;    \n",
       "    /*color: #5889C5;*/\n",
       "    /*color: rgb(0, 51, 102);*/\n",
       "    /*font-weight: 200;*/\n",
       "    /*font-size: 50pt;*/\n",
       "    margin-bottom: 0.5em;\n",
       "    margin-top: 0.5em;\n",
       "    display: block;\n",
       "}\n",
       "\n",
       ".text_cell_render h2 {\n",
       "    font-family: 'Nixie One', serif;\n",
       "    font-weight: 400;\n",
       "    font-size: 30pt;\n",
       "    line-height: 100%;\n",
       "    /*color: rgb(0,51,102);*/\n",
       "    color: #497BB9;    \n",
       "    margin-bottom: 0.1em;\n",
       "    margin-top: 0.3em;\n",
       "    display: block;\n",
       "}\t\n",
       "\n",
       ".text_cell_render h3 {\n",
       "    font-family: 'Nixie One', serif;\n",
       "    margin-top:16px;\n",
       "    font-size: 22pt;\n",
       "    font-weight: 600;\n",
       "    margin-bottom: 3px;\n",
       "    font-style: regular;\n",
       "    color: rgb(102,102,0);\n",
       "}\n",
       "\n",
       ".text_cell_render h4 {    /*Use this for captions*/\n",
       "    font-family: 'Nixie One', serif;\n",
       "    font-size: 14pt;\n",
       "/*    text-align: center;*/\n",
       "    margin-top: 0em;\n",
       "    margin-bottom: 2em;\n",
       "    font-style: regular;\n",
       "}\n",
       "\n",
       ".text_cell_render h5 {  /*Use this for small titles*/\n",
       "    font-family: 'Nixie One', sans-serif;\n",
       "    font-weight: 400;\n",
       "    font-size: 16pt;\n",
       "    color: rgb(163,0,0);\n",
       "    /*color: #5889C5;*/\n",
       "    /*margin-bottom: .5em;\n",
       "    margin-top: 0.5em;*/\n",
       "    font-style: italic;\n",
       "    margin-bottom: .1em;\n",
       "    margin-top: 0.8em;\n",
       "    display: block;\n",
       "}\n",
       "\n",
       ".warning {\n",
       "    color: rgb( 240, 20, 20)\n",
       "}\n",
       "\n",
       "</style> \n",
       "<script>\n",
       " MathJax.Hub.Config( {\n",
       "    TeX: {\n",
       "        Macros: {\n",
       "            NN: \"{\\\\bf N}\",\n",
       "            RR: \"{\\\\mathbb{R}}\",\n",
       "            mcO: \"{\\\\mathcal{O}}\"\n",
       "        },\n",
       "        equationNumbers: { autoNumber: \"AMS\" },\n",
       "        extensions: [\"AMSmath.js\", \"begingroup.js\"] \n",
       "    },\n",
       "    tex2jax: {\n",
       "        inlineMath: [ ['$', '$'], [\"\\\\(\", \"\\\\)\"]], displayMath: [ ['$$', '$$'], [\"\\\\[\", \"\\\\]\"]]\n",
       "    },\n",
       "    displayAlign: 'center', // Change this to 'center' to center equations.\n",
       "    \"HTML-CSS\": {\n",
       "        styles: {\n",
       "            '.MathJax_Display': {\n",
       "                \"margin\": 4\n",
       "            }\n",
       "        }\n",
       "    }\n",
       "}\n",
       ");\n",
       "</script>"
      ],
      "text/plain": [
       "<IPython.core.display.HTML object>"
      ]
     },
     "execution_count": 1,
     "metadata": {},
     "output_type": "execute_result"
    }
   ],
   "source": [
    "from IPython.core.display import HTML\n",
    "def css_styling():\n",
    "    styles = open(\"styles/tma4215.css\", \"r\").read()\n",
    "    return HTML(styles)\n",
    "\n",
    "# Comment out next line and execute this cell to restore the default notebook style \n",
    "css_styling()"
   ]
  },
  {
   "cell_type": "markdown",
   "metadata": {},
   "source": [
    "We will now use Newton's method to find the roots to a *complex* function, namely the function\n",
    "    $$f_C(z) = z^3 - 1.$$\n",
    "### a)\n",
    "Write the complex function $f_C: \\mathbb{C} \\to \\mathbb{C}$ as a real vector-valued function $\\mathbf{f}: \\mathbb{R}^2 \\to \\mathbb{R}^2$ and write down the Jacobian.  \n",
    "(*Hint: use rectangular coordinates $z = x_1+\\mathrm{i}x_2$)*"
   ]
  },
  {
   "cell_type": "markdown",
   "metadata": {},
   "source": [
    "<font color='blue'>\n",
    "    \n",
    "   Solution: \n",
    "\n",
    "</font>\n",
    "\n",
    "$$f_C(z) = z^3 - 1.$$ \n",
    "$$\\Rightarrow  f_C(x+ iy) = x^3 + 3xy^2 - 1 + i(3x^2y-y^3)$$\n",
    "$$\\Rightarrow f_R(x, y) = f_1(x, y) + if_2(x, y)$$ \n",
    "$$\\Rightarrow f(\\mathbf{x}) = \\begin{pmatrix} f_1(\\mathbf{x}) \\\\ f_2(\\mathbf{x}) \\end{pmatrix}$$ $$ \\mathbf{x} = \\begin{pmatrix} x \\\\ y \\end{pmatrix}, \\quad f_1(\\mathbf{x}) = x^3 + 3xy^2 - 1, \\quad f_2(\\mathbf{x}) = 3x^2y-y^3$$\n",
    "\n",
    "$$J_f=\\begin{pmatrix} \\frac{\\partial f_1}{\\partial x} \\frac{\\partial f_1}{\\partial y} \\\\ \\frac{\\partial f_2}{\\partial x} \\frac{\\partial f_2}{\\partial y} \\end{pmatrix}$$"
   ]
  },
  {
   "cell_type": "markdown",
   "metadata": {},
   "source": [
    "### b)\n",
    "Write a function $\\texttt{Newton}$ which performs Newton iteration until $\\|\\mathbf{f}(\\mathbf{x}^k)\\|_p$ is smaller than some given tolerance $tol$. You can choose what $p$-norm $\\|\\cdot\\|_p$ you use. The function should take as input parameters  \n",
    " - Initial guess $\\mathbf{x}^{(0)}$\n",
    " - tolerance $tol$\n",
    " - Maximum number of iterations $itermax$.  \n",
    "\n",
    "The function should return the final iterate $\\mathbf{x}^{(k)}$, and some indication of whether the iteration converged. "
   ]
  },
  {
   "cell_type": "code",
   "execution_count": 2,
   "metadata": {},
   "outputs": [],
   "source": [
    "# As alway we start by importing the important libraries.\n",
    "import numpy as np\n",
    "import scipy.linalg as la\n",
    "import matplotlib.pyplot as plt\n",
    "\n",
    "# function 1 and partial derivatives\n",
    "f_1 = lambda x,y : x ** 3 - 3 * x * y ** 2 - 1\n",
    "f_1_x = lambda x,y : 3 * x ** 2 - 3 * y ** 2\n",
    "f_1_y = lambda x,y : - 6 * x * y\n",
    "# function 2 and partial derivatives\n",
    "f_2 = lambda x,y : 3 * x ** 2 * y - y ** 3\n",
    "f_2_x = lambda x,y : 6 * x * y \n",
    "f_2_y = lambda x,y : 3 * x ** 2  - 3 * y ** 2\n",
    "# function\n",
    "f = lambda x : np.array([f_1(x[0],x[1]), f_2(x[0],x[1])])\n",
    "# Jacobian\n",
    "J_f = lambda x : np.array([[f_1_x(x[0],x[1]), f_1_y(x[0],x[1])], [f_2_x(x[0],x[1]), f_2_y(x[0],x[1])]])\n",
    "\n",
    "\n",
    "\n",
    "\n",
    "def Newton(x0, tol, itermax, p=2):\n",
    "    try:\n",
    "        xk = x0\n",
    "        err = 10 * tol #something bigger than tol\n",
    "        i = 0\n",
    "        while err > tol and i != itermax:\n",
    "            xk_1 = xk - np.linalg.inv(J_f(xk)) @ f(xk)\n",
    "            err = np.linalg.norm(f(xk_1), ord=p)\n",
    "            xk = xk_1\n",
    "            i += 1\n",
    "        converged = True\n",
    "        if i >= itermax:\n",
    "            converged = False\n",
    "        return xk, converged\n",
    "    except:\n",
    "        print(\"J_f is a singular matrix\")\n",
    "        return None, False\n",
    "\n"
   ]
  },
  {
   "cell_type": "markdown",
   "metadata": {},
   "source": [
    "### c)\n",
    "The function $\\mathbf{f}$ has exactly three roots. (Which?) Hence, if the iteration converges it might converge to any of the three roots. You will now study the dependence on initial guess to which root the iteration converges. Pick $N$ equidistant values of $x^{(0)}_1$ in the interval $[-1,1]$ and $N$ equidistant values of $x^{(0)}_2$ in the interval $[-1,1]$. For each point $\\mathbf{x}^{(0)} = (x^{(0)}_1, x^{(0)}_2)^T$, perform the newton iteration you have defined above. Give the point a color depending on whether the iteration converged in time. If the iteration converged, the point should get a different color depending on which point it converged to. Plot the result."
   ]
  },
  {
   "cell_type": "code",
   "execution_count": 11,
   "metadata": {
    "scrolled": false
   },
   "outputs": [],
   "source": [
    "#Write code here\n",
    "def run_newton_and_make_imshow(M=100, p=2):\n",
    "    theta_list = np.zeros((M,M))\n",
    "    i = 0\n",
    "    for x_i in np.linspace(-1, 1, M):\n",
    "        j = 0\n",
    "        for x_j in np.linspace(-1, 1, M):\n",
    "            x0 = np.array([x_i, x_j])\n",
    "            xk, converged = Newton(x0, 1e-10, 1000, p=p)\n",
    "            try:\n",
    "                z = np.complex(xk[0], xk[1])\n",
    "                theta_list[j, i] = np.angle(z)\n",
    "            except:\n",
    "                _ = None # Do nothing\n",
    "            j += 1\n",
    "            if not converged:\n",
    "                print(\"did not converge, x0 = \", x0)\n",
    "        i += 1\n",
    "    plt.figure()\n",
    "    plt.title(\"p = \" + str(p))\n",
    "    plt.imshow(theta_list)"
   ]
  },
  {
   "cell_type": "code",
   "execution_count": 12,
   "metadata": {},
   "outputs": [
    {
     "data": {
      "image/png": "[encoded data removed]",
      "text/plain": [
       "<Figure size 432x288 with 1 Axes>"
      ]
     },
     "metadata": {},
     "output_type": "display_data"
    }
   ],
   "source": [
    "run_newton_and_make_imshow()"
   ]
  },
  {
   "cell_type": "markdown",
   "metadata": {},
   "source": [
    "*Hint 1: You will encounter an error if you try with the initial guess $\\mathbf{x}^{(0)} = \\mathbf{0}$. It might be good to offset all initial guesses by some small perturbation $\\mathbf{\\delta}$.*     "
   ]
  },
  {
   "cell_type": "markdown",
   "metadata": {},
   "source": [
    "*Hint 2: A good way to measure which root the iteration converged to is looking at the argument if the point as a complex number, that is $$\\arg(x^{(k)}_1 + \\mathrm{i}x^{(k)}_2).$$ Store the result in a $N\\times N$ array. If the iteration did not converge, the point can be given the value* **None**. *The result can then be plotted using the matplotlib.pyplot function $\\texttt{imshow}$.*"
   ]
  },
  {
   "cell_type": "markdown",
   "metadata": {},
   "source": [
    "### d)\n",
    "Discuss the following: Does it matter what $p$-norm you use in your Newton algorithm? What happens if you change norm? Does the result change qualitively? Remember that the $p$-norm on $\\mathbb{R}^n$  is defined as\n",
    "$$\n",
    "\\|\\mathbf{x}\\|_p := \\left(\\sum_{k=1}^n|x_k|^p\\right)^{1/p}\n",
    "$$\n",
    "for $1<p<\\infty$."
   ]
  },
  {
   "cell_type": "code",
   "execution_count": 13,
   "metadata": {},
   "outputs": [
    {
     "data": {
      "image/png": "[encoded data removed]",
      "text/plain": [
       "<Figure size 432x288 with 1 Axes>"
      ]
     },
     "metadata": {},
     "output_type": "display_data"
    },
    {
     "data": {
      "image/png": "[encoded data removed]",
      "text/plain": [
       "<Figure size 432x288 with 1 Axes>"
      ]
     },
     "metadata": {},
     "output_type": "display_data"
    },
    {
     "data": {
      "image/png": "[encoded data removed]",
      "text/plain": [
       "<Figure size 432x288 with 1 Axes>"
      ]
     },
     "metadata": {},
     "output_type": "display_data"
    }
   ],
   "source": [
    "for p in [3, 10, np.inf]:\n",
    "    run_newton_and_make_imshow(p=p)"
   ]
  },
  {
   "cell_type": "markdown",
   "metadata": {},
   "source": [
    "<font color='blue'>\n",
    "    \n",
    "   Solution:\n",
    "   \n",
    "</font>"
   ]
  },
  {
   "cell_type": "markdown",
   "metadata": {},
   "source": [
    "Since for any p-norm we have that: for any norm $q$ and $p$ the exists konstanst $k$ and $K$ such that $k ||.||_q \\leq ||.||_p \\leq K ||.||_q$, all p-norms are equivalent. See example above."
   ]
  },
  {
   "cell_type": "markdown",
   "metadata": {},
   "source": [
    "### e) (Not mandatory)\n",
    "Modify your Newton function so that it returns the number of iterations used. Then, plot the number of iterations used for each initial guess $\\mathbf{x}^{(0)}.$ What do you observe?"
   ]
  },
  {
   "cell_type": "code",
   "execution_count": null,
   "metadata": {},
   "outputs": [],
   "source": [
    "#Write code here"
   ]
  },
  {
   "cell_type": "markdown",
   "metadata": {},
   "source": [
    "### Remark\n",
    "If you colored the plot according to the hint, the white parts are called the *Julia set* of the rational function $$Q(z) = z - \\frac{f_C(z)}{f_C'(z)}.$$ The colored parts are called *Fatou components.* If you would like to more about the plot above and others like it, there is a link to the wikipedia page of [Julia sets](https://en.wikipedia.org/wiki/Julia_set)."
   ]
  }
 ],
 "metadata": {
  "kernelspec": {
   "display_name": "Python 3",
   "language": "python",
   "name": "python3"
  },
  "language_info": {
   "codemirror_mode": {
    "name": "ipython",
    "version": 3
   },
   "file_extension": ".py",
   "mimetype": "text/x-python",
   "name": "python",
   "nbconvert_exporter": "python",
   "pygments_lexer": "ipython3",
   "version": "3.6.5"
  }
 },
 "nbformat": 4,
 "nbformat_minor": 2
}
